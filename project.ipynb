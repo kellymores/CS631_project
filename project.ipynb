{
 "cells": [
  {
   "cell_type": "code",
   "execution_count": 1,
   "metadata": {},
   "outputs": [],
   "source": [
    "import findspark\n",
    "findspark.init(\"/u/cs451/packages/spark\")"
   ]
  },
  {
   "cell_type": "code",
   "execution_count": 2,
   "metadata": {},
   "outputs": [],
   "source": [
    "from pyspark.sql import SparkSession\n",
    "import random\n",
    "spark = SparkSession.builder.appName(\"YourTest\").master(\"local[2]\").config('spark.ui.port', random.randrange(4000,5000)).getOrCreate()"
   ]
  },
  {
   "cell_type": "code",
   "execution_count": 10,
   "metadata": {},
   "outputs": [
    {
     "data": {
      "text/plain": [
       "'2.3.1'"
      ]
     },
     "execution_count": 10,
     "metadata": {},
     "output_type": "execute_result"
    }
   ],
   "source": [
    "spark.version"
   ]
  },
  {
   "cell_type": "code",
   "execution_count": 8,
   "metadata": {},
   "outputs": [
    {
     "data": {
      "text/plain": [
       "DataFrame[position: string, company: string, description: string, reviews: int, location\n",
       ": string]"
      ]
     },
     "metadata": {},
     "output_type": "display_data"
    }
   ],
   "source": [
    "df = spark.read\\\n",
    ".option(\"wholeFile\", True)\\\n",
    ".option(\"inferSchema\", True)\\\n",
    ".option(\"header\", True)\\\n",
    ".option(\"multiline\", True)\\\n",
    ".option('quote', '\"')\\\n",
    ".option('escape', '\"')\\\n",
    ".csv(\"alldata.csv\")\n",
    "display(df)"
   ]
  },
  {
   "cell_type": "code",
   "execution_count": 30,
   "metadata": {},
   "outputs": [
    {
     "name": "stdout",
     "output_type": "stream",
     "text": [
      "root\n",
      " |-- position: string (nullable = true)\n",
      " |-- company: string (nullable = true)\n",
      " |-- description: string (nullable = true)\n",
      " |-- reviews: integer (nullable = true)\n",
      " |-- location\r",
      ": string (nullable = true)\n",
      "\n"
     ]
    }
   ],
   "source": [
    "df.printSchema()"
   ]
  },
  {
   "cell_type": "code",
   "execution_count": 35,
   "metadata": {},
   "outputs": [
    {
     "data": {
      "text/plain": [
       "pyspark.sql.dataframe.DataFrame"
      ]
     },
     "execution_count": 35,
     "metadata": {},
     "output_type": "execute_result"
    }
   ],
   "source": [
    "type(df)"
   ]
  },
  {
   "cell_type": "code",
   "execution_count": 36,
   "metadata": {},
   "outputs": [
    {
     "data": {
      "text/plain": [
       "6964"
      ]
     },
     "execution_count": 36,
     "metadata": {},
     "output_type": "execute_result"
    }
   ],
   "source": [
    "df.count()"
   ]
  },
  {
   "cell_type": "code",
   "execution_count": 38,
   "metadata": {},
   "outputs": [
    {
     "data": {
      "text/plain": [
       "(5, ['position', 'company', 'description', 'reviews', 'location\\r'])"
      ]
     },
     "execution_count": 38,
     "metadata": {},
     "output_type": "execute_result"
    }
   ],
   "source": [
    "len(df.columns), df.columns"
   ]
  },
  {
   "cell_type": "code",
   "execution_count": 31,
   "metadata": {
    "scrolled": true
   },
   "outputs": [
    {
     "name": "stdout",
     "output_type": "stream",
     "text": [
      "+--------------------+------------------+--------------------+-------+------------------+\n",
      "|            position|           company|         description|reviews|         location\r",
      "|\n",
      "+--------------------+------------------+--------------------+-------+------------------+\n",
      "|Development Director|           ALS TDI|Development Direc...|   null|Atlanta, GA 30301 |\n",
      "|An Ostentatiously...|The Hexagon Lavish|Job Description\n",
      "\n",
      "...|   null|       Atlanta, GA|\n",
      "|      Data Scientist|    Xpert Staffing|Growing company l...|   null|       Atlanta, GA|\n",
      "+--------------------+------------------+--------------------+-------+------------------+\n",
      "only showing top 3 rows\n",
      "\n"
     ]
    }
   ],
   "source": [
    "df.show(3)"
   ]
  },
  {
   "cell_type": "code",
   "execution_count": 39,
   "metadata": {},
   "outputs": [
    {
     "name": "stdout",
     "output_type": "stream",
     "text": [
      "+-------+--------------------+-----------------+--------------------+------------------+-----------------+\n",
      "|summary|            position|          company|         description|           reviews|        location\r",
      "|\n",
      "+-------+--------------------+-----------------+--------------------+------------------+-----------------+\n",
      "|  count|                6953|             6953|                6953|              5326|             6964|\n",
      "|   mean|                null|           1238.0|                null|3179.0891851295532|             null|\n",
      "| stddev|                null|895.1971849821691|                null| 8448.515056351427|             null|\n",
      "|    min|(Contract) Busine...|     10x Genomics|\n",
      "2+ years of expe...|                 2|                \r",
      "|\n",
      "|    max|senior data scien...|               쿠팡|职位:数据分析工程师工作地点:加州...|            148114|Yonkers, NY 10701|\n",
      "+-------+--------------------+-----------------+--------------------+------------------+-----------------+\n",
      "\n"
     ]
    }
   ],
   "source": [
    "df.describe().show()"
   ]
  },
  {
   "cell_type": "code",
   "execution_count": 22,
   "metadata": {},
   "outputs": [
    {
     "name": "stdout",
     "output_type": "stream",
     "text": [
      "+------------------+-----+\n",
      "|           company|count|\n",
      "+------------------+-----+\n",
      "|        Amazon.com|  358|\n",
      "|    Ball Aerospace|  187|\n",
      "|         Microsoft|  137|\n",
      "|            Google|  134|\n",
      "|NYU Langone Health|   77|\n",
      "+------------------+-----+\n",
      "only showing top 5 rows\n",
      "\n"
     ]
    }
   ],
   "source": [
    "df.select('company').groupby('company').count().orderBy('count', ascending=0).show(5)"
   ]
  },
  {
   "cell_type": "code",
   "execution_count": 25,
   "metadata": {},
   "outputs": [
    {
     "name": "stdout",
     "output_type": "stream",
     "text": [
      "+--------------------+-----+\n",
      "|            position|count|\n",
      "+--------------------+-----+\n",
      "|      Data Scientist|  351|\n",
      "|Senior Data Scien...|   96|\n",
      "|    Research Analyst|   64|\n",
      "|       Data Engineer|   60|\n",
      "|Machine Learning ...|   56|\n",
      "+--------------------+-----+\n",
      "only showing top 5 rows\n",
      "\n"
     ]
    }
   ],
   "source": [
    "df.select('position').groupby('position').count().orderBy('count', ascending=0).show(5)"
   ]
  },
  {
   "cell_type": "code",
   "execution_count": 33,
   "metadata": {},
   "outputs": [
    {
     "name": "stdout",
     "output_type": "stream",
     "text": [
      "+--------------------+------------------+--------------------+-------+------------------+\n",
      "|            position|           company|         description|reviews|         location\r",
      "|\n",
      "+--------------------+------------------+--------------------+-------+------------------+\n",
      "|Development Director|           ALS TDI|Development Direc...|      0|Atlanta, GA 30301 |\n",
      "|An Ostentatiously...|The Hexagon Lavish|Job Description\n",
      "\n",
      "...|      0|       Atlanta, GA|\n",
      "|      Data Scientist|    Xpert Staffing|Growing company l...|      0|       Atlanta, GA|\n",
      "|        Data Analyst|    Operation HOPE|DEPARTMENT: Progr...|     44|Atlanta, GA 30303 |\n",
      "|Assistant Profess...|  Emory University|DESCRIPTION\n",
      "The E...|    550|       Atlanta, GA|\n",
      "+--------------------+------------------+--------------------+-------+------------------+\n",
      "only showing top 5 rows\n",
      "\n"
     ]
    }
   ],
   "source": [
    "df.na.fill({'reviews': 0}).show(5)"
   ]
  },
  {
   "cell_type": "code",
   "execution_count": 34,
   "metadata": {},
   "outputs": [
    {
     "name": "stdout",
     "output_type": "stream",
     "text": [
      "+-------+\n",
      "|reviews|\n",
      "+-------+\n",
      "|   null|\n",
      "|   null|\n",
      "|   null|\n",
      "|     44|\n",
      "|    550|\n",
      "+-------+\n",
      "only showing top 5 rows\n",
      "\n"
     ]
    }
   ],
   "source": [
    "df.select('reviews').show(5)"
   ]
  },
  {
   "cell_type": "code",
   "execution_count": 41,
   "metadata": {},
   "outputs": [
    {
     "name": "stdout",
     "output_type": "stream",
     "text": [
      "+--------------------+------------------+--------------------+-------+------------------+--------------------+\n",
      "|            position|           company|         description|reviews|         location\r",
      "|               words|\n",
      "+--------------------+------------------+--------------------+-------+------------------+--------------------+\n",
      "|Development Director|           ALS TDI|Development Direc...|   null|Atlanta, GA 30301 |[development, dir...|\n",
      "|An Ostentatiously...|The Hexagon Lavish|Job Description\n",
      "\n",
      "...|   null|       Atlanta, GA|[job, description...|\n",
      "|      Data Scientist|    Xpert Staffing|Growing company l...|   null|       Atlanta, GA|[growing, company...|\n",
      "|        Data Analyst|    Operation HOPE|DEPARTMENT: Progr...|     44|Atlanta, GA 30303 |[department:, pro...|\n",
      "|Assistant Profess...|  Emory University|DESCRIPTION\n",
      "The E...|    550|       Atlanta, GA|[description, the...|\n",
      "+--------------------+------------------+--------------------+-------+------------------+--------------------+\n",
      "only showing top 5 rows\n",
      "\n"
     ]
    }
   ],
   "source": [
    "from pyspark.ml.feature import Tokenizer\n",
    "from pyspark.ml import Pipeline\n",
    "\n",
    "tokenizer = Tokenizer(inputCol=\"description\", outputCol=\"words\")\n",
    "\n",
    "pipeline = Pipeline(stages=[tokenizer])\n",
    "\n",
    "pipelineFit = pipeline.fit(df)\n",
    "df = pipelineFit.transform(df)\n",
    "#val_df = pipelineFit.transform(val_set)\n",
    "#df.show(5)"
   ]
  },
  {
   "cell_type": "code",
   "execution_count": 44,
   "metadata": {},
   "outputs": [
    {
     "data": {
      "text/plain": [
       "[Row(words=['development', 'director', 'als', 'therapy', 'development', 'institute', 'has', 'an', 'immediate', 'opening', 'for', 'development', 'directors.', 'reporting', 'directly', 'to', 'the', 'senior', 'development', 'director,', 'the', 'development', 'director', 'at', 'als', 'tdi', 'is', 'a', 'senior', 'fundraising', 'position', 'working', 'to', 'identifying', 'potential', 'prospects', 'and', 'cultivating', 'solicitation', 'strategies', 'and', 'in', 'closing', 'asks', 'with', 'donors', 'including', 'individuals', 'and', 'corporations', 'by', 'building', 'networks', 'via', 'events,', 'generating', 'awareness', 'of', 'als', 'tdi;', 'outreach', 'including', 'attending', 'and', 'speaking', 'at', 'events', 'as', 'well', 'as', 'personally', 'cultivates', 'relationships', 'with', 'patients,', 'prospects', 'and', 'donors.', 'this', 'position', 'will', 'be', 'responsible', 'for', 'generating', 'and', 'managing', 'a', 'portfolio', 'of', 'at', 'least', 'two', 'million', 'to', 'five', 'million', 'dollars', 'per', 'year.', 'this', 'position', 'will', 'be', 'located', 'in', 'atlanta,', 'ga.', '', 'requirements:', \"bachelor's\", 'degree', 'requiredminimum', '6-8', \"years'\", 'experience', 'in', 'fundraising', 'and', 'business', 'developmentsuccessful', 'track', 'recording', 'in', 'fundraising', 'with', 'major', 'donors', 'or', 'scientific', 'sales', 'preferreddemonstrated', 'ability', 'to', 'work', 'independently', 'and', 'make', 'progress', 'on', 'several', 'prospects/projects', 'at', 'the', 'same', 'time.excellent', 'english', 'oral,', 'written', 'and', 'presentation', 'skillsstrong', 'leadership', 'and', 'management', 'skills,', 'as', 'well', 'as', 'the', 'ability', 'to', 'forge', 'strong', 'interpersonal', 'relationshipsability', 'to', 'travelexcellent', 'computer', 'skills', 'including', 'use', 'of', 'word', 'processing,', 'spreadsheet,', 'database,', 'presentation', 'and', 'prospect', 'management', 'software', 'operating', 'off', 'a', 'pc-based', 'system', 'including', 'salesforce.', 'about', 'als', 'therapy', 'development', 'institute', '(als.net)', '', 'the', 'als', 'therapy', 'development', 'institute', '(als.net)', 'and', 'its', 'scientists', 'actively', 'discover', 'and', 'develop', 'treatments', 'for', 'als.', 'als.net', 'is', 'the', \"world's\", 'first', 'and', 'largest', 'nonprofit', 'biotech', 'focused', '100%', 'on', 'als', 'research.', 'led', 'by', 'als', 'patients', 'and', 'their', 'families,', 'the', 'charity', 'understands', 'the', 'urgent', 'need', 'to', 'slow', 'and', 'stop', 'this', 'horrible', 'disease.', 'als.net,', 'based', 'in', 'cambridge,', 'ma,', 'has', 'served', 'as', 'one', 'of', 'the', 'leaders', 'in', 'sharing', 'data', 'and', 'information', 'with', 'academic', 'and', 'als', 'research', 'organizations,', 'patients', 'and', 'their', 'families.', 'for', 'more', 'information,', 'visit', 'www.als.net.', '', 'to', 'apply', 'please', 'apply', 'at', 'https://als.applicantpro.com.', 'please', 'include', 'a', 'cover', 'letter,', 'salary', 'requirements', 'and', 'resume.', 'no', 'phone', 'calls', 'please.', 'als', 'tdi', 'is', 'an', 'equal', 'opportunity', 'employer.']),\n",
       " Row(words=['job', 'description', '', '\"the', 'road', 'that', 'leads', 'to', 'accomplishment', 'is', 'narrow.\"', '-desmond', 'ostentatious', 'is', 'a', 'strong', 'adjective', 'that', 'fits', 'the', 'description', 'of', 'an', 'individual', 'that', 'inhibits', 'the', 'natural', 'and', 'innate', 'spirit', 'of', 'vivaciousness,', 'vigor', 'and', 'the', 'eager', 'characteristics', 'that', 'comprise', 'the', 'disposition', 'of', 'one', \"who's\", 'willing', 'to', 'learn;', 'to', 'take', 'on', 'the', 'attitude', 'of', '\"the', 'eternal', 'student\".', 'with', 'that', 'said,', 'atlanta,', 'georgia-based', 'scientific', 'r&amp;d', 'outfit,', 'hexagon', 'lavish®,', 'has', 'an', 'open', 'position', 'for', 'an', 'excitable', 'principal', 'research', 'assistant', 'that', 'will', 'be', 'mentored', 'and', 'guided', 'by', 'our', 'chief', 'science', 'officer.', 'this', 'position', 'includes', 'computational', 'and', 'statistical', 'analysis', 'of', 'sequencing', 'studies,', 'technical', 'and', 'logistical', 'collaboration', 'with', 'international', 'consortia.', 'as', 'well,', 'the', 'excitable', 'principal', 'research', 'assistant', 'will', 'be', 'responsible', 'for', 'setting', 'the', 'schedule', 'for', 'entry-level', 'scientists', 'whom', 'will', 'also', 'be', 'guided', 'by', 'our', 'chief', 'scientist.', 'the', 'excitable', 'principal', 'research', 'assistant', 'will', 'also', 'be', 'in', 'charge', 'of', 'delegating', 'reports', 'and', 'responsibilities', 'to', 'the', 'project', 'leads', 'on', 'behalf', 'of', 'the', 'chief', 'science', 'officer', 'and', 'the', 'chief', 'technology', 'officer.', 'the', 'excitable', 'principal', 'research', 'assistant', 'will', 'engage', 'entry-level', 'scientists', 'and', 'researchers,', 'setting-up', 'work', 'schedules', 'for', 'entry-level', 'scientists', 'and', 'researchers', 'and', 'also', 'be', 'heavily-involved', 'in', 'workshops', 'and', 'internal', 'team', 'seminars', 'as', 'well', 'as', 'perform', 'clerical', 'and/or', 'administrative', 'duties', 'such', 'as', 'reports', 'that', 'are', 'directly', 'to', 'be', 'addressed', 'to', 'the', 'chief', 'science', 'officer.', '***', 'a', 'solid', 'background', 'in', 'constructive', 'optics', 'algorithms', 'combined', 'with', 'expansive', 'computer', 'vision', 'and', 'image', 'inferential', 'is', 'the', 'most', 'preferable', 'candidacy.', '***', 'qualifications', '', 'integrating', 'data', 'across', 'formats', 'and', 'sources', 'by', 'robust', 'synchronization', 'with', 'existing', 'datasets', 'and', 'databases', '', 'under', 'general', 'direction,', 'developing', 'innovative', 'analytical', 'methods', 'to', 'enable', 'collaborators', 'to', 'interpret', 'and', 'design', 'follow-up', 'research', '', 'providing', 'support', 'to', 'internal', 'team', 'members', 'across', 'all', 'interdisciplinary', 'backgrounds', '', 'lead', 'and', 'contribute', 'to', 'manuscript', 'preparation', 'as', 'well', 'as', 'internal', 'and', 'external', 'project-team', 'reports', '', 'actively', 'participating', 'in', 'project', 'team', 'and', 'group', 'meetings', 'additional', 'information', '', 'essential', 'job', 'functions', 'ph.d.', 'in', 'computer', 'science,', 'mathematics,', 'statistics,', 'chemistry,', 'or', 'other', 'quantitative', 'discipline', 'required', '', '5+', 'years', 'experience,', 'with', 'varying', 'datasets', 'and', 'experience', 'with', 'computational', 'biology/statistics/physics,', 'mathematics,', 'computer', 'science,', 'algorithms/incorporate', 'learning,', 'etc.', '', 'relevant', 'experience', 'or', 'formal', 'training', 'in', 'laboratorial', 'and/or', 'clinical', 'research', '', 'must', 'have', 'demonstrable', 'proficiency', 'with', 'several', 'standard', 'computational', 'languages', 'and', 'also', 'some', 'form', 'of', '\"esoteric', 'programming\"', '', 'familiarity', 'with', 'image', 'inferential', 'analysis', 'tools', '', 'familiarity', 'with', 'a', 'range', 'of', 'optics', 'algorithm', 'tools', '', 'thorough', 'understanding', 'of', 'statistics', 'preferred', '', 'application', 'of', 'modeling', 'and', 'software', 'expertise', 'for', 'analysis', 'of', 'complex', 'r&amp;d', 'efforts', '', 'conduct', 'feasibility', 'studies', 'to', 'provide', 'technical', 'assessment', 'of', 'proposed', 'research', '', 'preparation', 'of', 'briefing', 'materials,', 'research', 'announcements,', 'and', 'technical', 'reports', '', 'technical', 'monitoring', 'of', 'r&amp;d', 'efforts', 'for', 'adherence', 'to', 'statement', 'of', 'work', '(sow)', 'tasks,', 'program', 'milestones,', 'and', 'deliverables', '', 'participation', 'in', 'program', 'reviews/site', 'visits/field', 'tests', 'and', 'coordination', 'of', 'scientific', 'workshops', 'as', 'required', '', 'summarize', 'and', 'communicate', 'the', 'intellectual', 'content', 'of', 'scientific', 'and', 'technological', 'information', 'to', 'both', 'scientific', 'and', 'non-scientific', 'audiences', '', 'interact', 'with', 'stakeholders', 'from', 'multiple', 'disciplines', 'including', 'engineering,', 'biology,', 'neuroscience,', 'clinical,', 'regulatory', 'and', 'policy', 'teams', '', 'demonstrable', 'mastery', 'of', 'high-performance', 'computing', 'of', 'the', 'low-level,', 'high-performance', 'development', 'skills', 'needed', 'to', 'perform', 'research', 'on', 'distributed,', 'highly', 'scalable', 'architectures', 'conducive', 'to', 'the', 'evolving', 'nature', 'of', 'pir', '', 'other', 'essential', 'job', 'functions', 'sound', 'decision-maker', '', 'establish', 'effectiveness', 'as', 'a', 'mentor', '', 'be', 'contributory', 'to', 'the', 'scientific', 'endeavors', 'of', 'the', 'company', '', 'other', 'skills/abilities', 'excellent', 'communication', 'skills,', 'both', 'verbally', 'and', 'in', 'written', 'form', '', 'fluent', 'in', 'english', '', 'strong', 'interpersonal', 'skills', '', 'must', 'demonstrate', 'a', 'high', 'degree', 'of', 'integrity,', 'trustworthiness,', 'respect', 'for', 'others', 'and', 'the', 'ability', 'to', 'deal', 'appropriately', 'with', 'confidential', 'and', 'sensitive', 'information', '', '', 'must', 'demonstrate', 'an', 'understanding', 'and', 'acceptance', 'of', 'hexagon', 'lavish®’s', 'mission,', 'vision', 'and', 'values', '', 'hexagon', 'lavish®', 'is', 'an', 'equal', 'opportunity', 'employer'])]"
      ]
     },
     "execution_count": 44,
     "metadata": {},
     "output_type": "execute_result"
    }
   ],
   "source": [
    "df.select('words').take(2)"
   ]
  },
  {
   "cell_type": "code",
   "execution_count": 11,
   "metadata": {},
   "outputs": [],
   "source": [
    "import pandas as pd\n",
    "df_pandas = pd.read_csv(\"alldata.csv\")"
   ]
  },
  {
   "cell_type": "code",
   "execution_count": 12,
   "metadata": {},
   "outputs": [
    {
     "data": {
      "text/html": [
       "<div>\n",
       "<style scoped>\n",
       "    .dataframe tbody tr th:only-of-type {\n",
       "        vertical-align: middle;\n",
       "    }\n",
       "\n",
       "    .dataframe tbody tr th {\n",
       "        vertical-align: top;\n",
       "    }\n",
       "\n",
       "    .dataframe thead th {\n",
       "        text-align: right;\n",
       "    }\n",
       "</style>\n",
       "<table border=\"1\" class=\"dataframe\">\n",
       "  <thead>\n",
       "    <tr style=\"text-align: right;\">\n",
       "      <th></th>\n",
       "      <th>position</th>\n",
       "      <th>company</th>\n",
       "      <th>description</th>\n",
       "      <th>reviews</th>\n",
       "      <th>location</th>\n",
       "    </tr>\n",
       "  </thead>\n",
       "  <tbody>\n",
       "    <tr>\n",
       "      <th>0</th>\n",
       "      <td>Development Director</td>\n",
       "      <td>ALS TDI</td>\n",
       "      <td>Development Director\\nALS Therapy Development ...</td>\n",
       "      <td>NaN</td>\n",
       "      <td>Atlanta, GA 30301</td>\n",
       "    </tr>\n",
       "    <tr>\n",
       "      <th>1</th>\n",
       "      <td>An Ostentatiously-Excitable Principal Research...</td>\n",
       "      <td>The Hexagon Lavish</td>\n",
       "      <td>Job Description\\n\\n\"The road that leads to acc...</td>\n",
       "      <td>NaN</td>\n",
       "      <td>Atlanta, GA</td>\n",
       "    </tr>\n",
       "    <tr>\n",
       "      <th>2</th>\n",
       "      <td>Data Scientist</td>\n",
       "      <td>Xpert Staffing</td>\n",
       "      <td>Growing company located in the Atlanta, GA are...</td>\n",
       "      <td>NaN</td>\n",
       "      <td>Atlanta, GA</td>\n",
       "    </tr>\n",
       "    <tr>\n",
       "      <th>3</th>\n",
       "      <td>Data Analyst</td>\n",
       "      <td>Operation HOPE</td>\n",
       "      <td>DEPARTMENT: Program OperationsPOSITION LOCATIO...</td>\n",
       "      <td>44.0</td>\n",
       "      <td>Atlanta, GA 30303</td>\n",
       "    </tr>\n",
       "    <tr>\n",
       "      <th>4</th>\n",
       "      <td>Assistant Professor -TT - Signal Processing &amp; ...</td>\n",
       "      <td>Emory University</td>\n",
       "      <td>DESCRIPTION\\nThe Emory University Department o...</td>\n",
       "      <td>550.0</td>\n",
       "      <td>Atlanta, GA</td>\n",
       "    </tr>\n",
       "  </tbody>\n",
       "</table>\n",
       "</div>"
      ],
      "text/plain": [
       "                                            position             company  \\\n",
       "0                               Development Director             ALS TDI   \n",
       "1  An Ostentatiously-Excitable Principal Research...  The Hexagon Lavish   \n",
       "2                                     Data Scientist      Xpert Staffing   \n",
       "3                                       Data Analyst      Operation HOPE   \n",
       "4  Assistant Professor -TT - Signal Processing & ...    Emory University   \n",
       "\n",
       "                                         description  reviews  \\\n",
       "0  Development Director\\nALS Therapy Development ...      NaN   \n",
       "1  Job Description\\n\\n\"The road that leads to acc...      NaN   \n",
       "2  Growing company located in the Atlanta, GA are...      NaN   \n",
       "3  DEPARTMENT: Program OperationsPOSITION LOCATIO...     44.0   \n",
       "4  DESCRIPTION\\nThe Emory University Department o...    550.0   \n",
       "\n",
       "             location  \n",
       "0  Atlanta, GA 30301   \n",
       "1         Atlanta, GA  \n",
       "2         Atlanta, GA  \n",
       "3  Atlanta, GA 30303   \n",
       "4         Atlanta, GA  "
      ]
     },
     "execution_count": 12,
     "metadata": {},
     "output_type": "execute_result"
    }
   ],
   "source": [
    "df_pandas.head()"
   ]
  },
  {
   "cell_type": "code",
   "execution_count": null,
   "metadata": {},
   "outputs": [],
   "source": []
  },
  {
   "cell_type": "code",
   "execution_count": null,
   "metadata": {},
   "outputs": [],
   "source": []
  },
  {
   "cell_type": "code",
   "execution_count": null,
   "metadata": {},
   "outputs": [],
   "source": []
  }
 ],
 "metadata": {
  "kernelspec": {
   "display_name": "Python 3",
   "language": "python",
   "name": "python3"
  },
  "language_info": {
   "codemirror_mode": {
    "name": "ipython",
    "version": 3
   },
   "file_extension": ".py",
   "mimetype": "text/x-python",
   "name": "python",
   "nbconvert_exporter": "python",
   "pygments_lexer": "ipython3",
   "version": "3.6.7"
  }
 },
 "nbformat": 4,
 "nbformat_minor": 2
}
